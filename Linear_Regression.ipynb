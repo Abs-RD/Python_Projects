{
 "cells": [
  {
   "cell_type": "markdown",
   "metadata": {},
   "source": [
    "                                     Statistical Analysis"
   ]
  },
  {
   "cell_type": "code",
   "execution_count": 3,
   "metadata": {},
   "outputs": [],
   "source": [
    "import numpy as np\n",
    "import pandas as pd\n",
    "import matplotlib.pyplot as plt\n",
    "import seaborn as sns\n",
    "from pandas import Series, DataFrame\n",
    "from scipy import stats\n",
    "from sklearn import metrics\n",
    "from sklearn.linear_model import LinearRegression\n",
    "from sklearn.neighbors import LocalOutlierFactor\n",
    "from sklearn.metrics import mean_absolute_error\n",
    "from sklearn.model_selection import train_test_split\n",
    "from sklearn.preprocessing import LabelEncoder, OneHotEncoder\n",
    "linreg = LinearRegression\n",
    "%matplotlib inline"
   ]
  },
  {
   "cell_type": "code",
   "execution_count": 18,
   "metadata": {},
   "outputs": [
    {
     "name": "stdout",
     "output_type": "stream",
     "text": [
      "                tripDistance  hour_of_day  day_of_week  month_num  \\\n",
      "passengerCount                                                      \n",
      "1.0                     9.40           15            2          1   \n",
      "NaN                    14.75           13            4          1   \n",
      "1.0                     3.35           23            4          1   \n",
      "1.0                     3.33           18            2          1   \n",
      "1.0                     0.47           17            6          1   \n",
      "...                      ...          ...          ...        ...   \n",
      "1.0                     7.47           13            2          6   \n",
      "1.0                     3.76            0            3          6   \n",
      "1.0                     3.45           14            5          6   \n",
      "1.0                    20.20            1            6          6   \n",
      "1.0                     3.03           18            6          6   \n",
      "\n",
      "               normalizeHolidayName  isPaidTimeOff  snowDepth  precipTime  \\\n",
      "passengerCount                                                              \n",
      "1.0                            None          False  29.058824        24.0   \n",
      "NaN                            None          False   0.000000         6.0   \n",
      "1.0                            None          False   0.000000         1.0   \n",
      "1.0                            None          False  29.058824        24.0   \n",
      "1.0                            None          False   0.000000         1.0   \n",
      "...                             ...            ...        ...         ...   \n",
      "1.0                            None          False   0.000000         1.0   \n",
      "1.0                            None          False   0.000000        24.0   \n",
      "1.0                            None          False   0.000000        24.0   \n",
      "1.0                            None          False   0.000000         1.0   \n",
      "1.0                            None          False   0.000000         1.0   \n",
      "\n",
      "                precipDepth  temperature  totalAmount  \n",
      "passengerCount                                         \n",
      "1.0                     3.0     6.185714        44.30  \n",
      "NaN                     0.0     4.571930        44.80  \n",
      "1.0                     0.0     4.384091        18.96  \n",
      "1.0                     3.0     6.185714        16.30  \n",
      "1.0                     0.0     3.846429         5.30  \n",
      "...                     ...          ...          ...  \n",
      "1.0                     0.0    25.704425        35.81  \n",
      "1.0                    51.0    21.695868        16.30  \n",
      "1.0                    41.0    21.990441        14.30  \n",
      "1.0                     0.0    23.116071        68.15  \n",
      "1.0                     0.0    23.116071        15.30  \n",
      "\n",
      "[11734 rows x 11 columns]\n"
     ]
    }
   ],
   "source": [
    "# importing dataset\n",
    "\n",
    "df = pd.read_csv('C:/Users/drion/DFE_DATA4_ML/ML_Exercises/Linear Regression File/nyc-taxi3.csv', index_col=0)\n",
    "print(df)"
   ]
  },
  {
   "cell_type": "code",
   "execution_count": 19,
   "metadata": {},
   "outputs": [
    {
     "data": {
      "text/html": [
       "<div>\n",
       "<style scoped>\n",
       "    .dataframe tbody tr th:only-of-type {\n",
       "        vertical-align: middle;\n",
       "    }\n",
       "\n",
       "    .dataframe tbody tr th {\n",
       "        vertical-align: top;\n",
       "    }\n",
       "\n",
       "    .dataframe thead th {\n",
       "        text-align: right;\n",
       "    }\n",
       "</style>\n",
       "<table border=\"1\" class=\"dataframe\">\n",
       "  <thead>\n",
       "    <tr style=\"text-align: right;\">\n",
       "      <th></th>\n",
       "      <th>tripDistance</th>\n",
       "      <th>hour_of_day</th>\n",
       "      <th>day_of_week</th>\n",
       "      <th>month_num</th>\n",
       "      <th>normalizeHolidayName</th>\n",
       "      <th>isPaidTimeOff</th>\n",
       "      <th>snowDepth</th>\n",
       "      <th>precipTime</th>\n",
       "      <th>precipDepth</th>\n",
       "      <th>temperature</th>\n",
       "      <th>totalAmount</th>\n",
       "    </tr>\n",
       "    <tr>\n",
       "      <th>passengerCount</th>\n",
       "      <th></th>\n",
       "      <th></th>\n",
       "      <th></th>\n",
       "      <th></th>\n",
       "      <th></th>\n",
       "      <th></th>\n",
       "      <th></th>\n",
       "      <th></th>\n",
       "      <th></th>\n",
       "      <th></th>\n",
       "      <th></th>\n",
       "    </tr>\n",
       "  </thead>\n",
       "  <tbody>\n",
       "    <tr>\n",
       "      <th>1.0</th>\n",
       "      <td>9.40</td>\n",
       "      <td>15</td>\n",
       "      <td>2</td>\n",
       "      <td>1</td>\n",
       "      <td>None</td>\n",
       "      <td>False</td>\n",
       "      <td>29.058824</td>\n",
       "      <td>24.0</td>\n",
       "      <td>3.0</td>\n",
       "      <td>6.185714</td>\n",
       "      <td>44.30</td>\n",
       "    </tr>\n",
       "    <tr>\n",
       "      <th>NaN</th>\n",
       "      <td>14.75</td>\n",
       "      <td>13</td>\n",
       "      <td>4</td>\n",
       "      <td>1</td>\n",
       "      <td>None</td>\n",
       "      <td>False</td>\n",
       "      <td>0.000000</td>\n",
       "      <td>6.0</td>\n",
       "      <td>0.0</td>\n",
       "      <td>4.571930</td>\n",
       "      <td>44.80</td>\n",
       "    </tr>\n",
       "    <tr>\n",
       "      <th>1.0</th>\n",
       "      <td>3.35</td>\n",
       "      <td>23</td>\n",
       "      <td>4</td>\n",
       "      <td>1</td>\n",
       "      <td>None</td>\n",
       "      <td>False</td>\n",
       "      <td>0.000000</td>\n",
       "      <td>1.0</td>\n",
       "      <td>0.0</td>\n",
       "      <td>4.384091</td>\n",
       "      <td>18.96</td>\n",
       "    </tr>\n",
       "    <tr>\n",
       "      <th>1.0</th>\n",
       "      <td>3.33</td>\n",
       "      <td>18</td>\n",
       "      <td>2</td>\n",
       "      <td>1</td>\n",
       "      <td>None</td>\n",
       "      <td>False</td>\n",
       "      <td>29.058824</td>\n",
       "      <td>24.0</td>\n",
       "      <td>3.0</td>\n",
       "      <td>6.185714</td>\n",
       "      <td>16.30</td>\n",
       "    </tr>\n",
       "    <tr>\n",
       "      <th>1.0</th>\n",
       "      <td>0.47</td>\n",
       "      <td>17</td>\n",
       "      <td>6</td>\n",
       "      <td>1</td>\n",
       "      <td>None</td>\n",
       "      <td>False</td>\n",
       "      <td>0.000000</td>\n",
       "      <td>1.0</td>\n",
       "      <td>0.0</td>\n",
       "      <td>3.846429</td>\n",
       "      <td>5.30</td>\n",
       "    </tr>\n",
       "  </tbody>\n",
       "</table>\n",
       "</div>"
      ],
      "text/plain": [
       "                tripDistance  hour_of_day  day_of_week  month_num  \\\n",
       "passengerCount                                                      \n",
       "1.0                     9.40           15            2          1   \n",
       "NaN                    14.75           13            4          1   \n",
       "1.0                     3.35           23            4          1   \n",
       "1.0                     3.33           18            2          1   \n",
       "1.0                     0.47           17            6          1   \n",
       "\n",
       "               normalizeHolidayName  isPaidTimeOff  snowDepth  precipTime  \\\n",
       "passengerCount                                                              \n",
       "1.0                            None          False  29.058824        24.0   \n",
       "NaN                            None          False   0.000000         6.0   \n",
       "1.0                            None          False   0.000000         1.0   \n",
       "1.0                            None          False  29.058824        24.0   \n",
       "1.0                            None          False   0.000000         1.0   \n",
       "\n",
       "                precipDepth  temperature  totalAmount  \n",
       "passengerCount                                         \n",
       "1.0                     3.0     6.185714        44.30  \n",
       "NaN                     0.0     4.571930        44.80  \n",
       "1.0                     0.0     4.384091        18.96  \n",
       "1.0                     3.0     6.185714        16.30  \n",
       "1.0                     0.0     3.846429         5.30  "
      ]
     },
     "execution_count": 19,
     "metadata": {},
     "output_type": "execute_result"
    }
   ],
   "source": [
    "# checking the first 5 rows\n",
    "\n",
    "df.head()"
   ]
  },
  {
   "cell_type": "markdown",
   "metadata": {},
   "source": [
    "                         Perform the following analysis on the dataset NYC Taxi Fare:\n",
    " Describe/Mean/Median/Mode/Correlation/P.Value"
   ]
  },
  {
   "cell_type": "code",
   "execution_count": 20,
   "metadata": {},
   "outputs": [
    {
     "data": {
      "text/html": [
       "<div>\n",
       "<style scoped>\n",
       "    .dataframe tbody tr th:only-of-type {\n",
       "        vertical-align: middle;\n",
       "    }\n",
       "\n",
       "    .dataframe tbody tr th {\n",
       "        vertical-align: top;\n",
       "    }\n",
       "\n",
       "    .dataframe thead th {\n",
       "        text-align: right;\n",
       "    }\n",
       "</style>\n",
       "<table border=\"1\" class=\"dataframe\">\n",
       "  <thead>\n",
       "    <tr style=\"text-align: right;\">\n",
       "      <th></th>\n",
       "      <th>tripDistance</th>\n",
       "      <th>hour_of_day</th>\n",
       "      <th>day_of_week</th>\n",
       "      <th>month_num</th>\n",
       "      <th>normalizeHolidayName</th>\n",
       "      <th>isPaidTimeOff</th>\n",
       "      <th>snowDepth</th>\n",
       "      <th>precipTime</th>\n",
       "      <th>precipDepth</th>\n",
       "      <th>temperature</th>\n",
       "      <th>totalAmount</th>\n",
       "    </tr>\n",
       "  </thead>\n",
       "  <tbody>\n",
       "    <tr>\n",
       "      <th>count</th>\n",
       "      <td>11734.000000</td>\n",
       "      <td>11734.000000</td>\n",
       "      <td>11734.000000</td>\n",
       "      <td>11734.000000</td>\n",
       "      <td>11734</td>\n",
       "      <td>11734</td>\n",
       "      <td>11734.000000</td>\n",
       "      <td>11734.000000</td>\n",
       "      <td>11734.000000</td>\n",
       "      <td>11734.000000</td>\n",
       "      <td>11617.000000</td>\n",
       "    </tr>\n",
       "    <tr>\n",
       "      <th>unique</th>\n",
       "      <td>NaN</td>\n",
       "      <td>NaN</td>\n",
       "      <td>NaN</td>\n",
       "      <td>NaN</td>\n",
       "      <td>5</td>\n",
       "      <td>2</td>\n",
       "      <td>NaN</td>\n",
       "      <td>NaN</td>\n",
       "      <td>NaN</td>\n",
       "      <td>NaN</td>\n",
       "      <td>NaN</td>\n",
       "    </tr>\n",
       "    <tr>\n",
       "      <th>top</th>\n",
       "      <td>NaN</td>\n",
       "      <td>NaN</td>\n",
       "      <td>NaN</td>\n",
       "      <td>NaN</td>\n",
       "      <td>None</td>\n",
       "      <td>False</td>\n",
       "      <td>NaN</td>\n",
       "      <td>NaN</td>\n",
       "      <td>NaN</td>\n",
       "      <td>NaN</td>\n",
       "      <td>NaN</td>\n",
       "    </tr>\n",
       "    <tr>\n",
       "      <th>freq</th>\n",
       "      <td>NaN</td>\n",
       "      <td>NaN</td>\n",
       "      <td>NaN</td>\n",
       "      <td>NaN</td>\n",
       "      <td>11484</td>\n",
       "      <td>11484</td>\n",
       "      <td>NaN</td>\n",
       "      <td>NaN</td>\n",
       "      <td>NaN</td>\n",
       "      <td>NaN</td>\n",
       "      <td>NaN</td>\n",
       "    </tr>\n",
       "    <tr>\n",
       "      <th>mean</th>\n",
       "      <td>2.866139</td>\n",
       "      <td>13.633884</td>\n",
       "      <td>3.223879</td>\n",
       "      <td>3.502898</td>\n",
       "      <td>NaN</td>\n",
       "      <td>NaN</td>\n",
       "      <td>1.609015</td>\n",
       "      <td>12.028379</td>\n",
       "      <td>190.782342</td>\n",
       "      <td>10.314244</td>\n",
       "      <td>14.724534</td>\n",
       "    </tr>\n",
       "    <tr>\n",
       "      <th>std</th>\n",
       "      <td>2.905810</td>\n",
       "      <td>6.670530</td>\n",
       "      <td>1.961855</td>\n",
       "      <td>1.707729</td>\n",
       "      <td>NaN</td>\n",
       "      <td>NaN</td>\n",
       "      <td>7.146771</td>\n",
       "      <td>10.158597</td>\n",
       "      <td>1211.087724</td>\n",
       "      <td>8.500600</td>\n",
       "      <td>10.966517</td>\n",
       "    </tr>\n",
       "    <tr>\n",
       "      <th>min</th>\n",
       "      <td>0.010000</td>\n",
       "      <td>0.000000</td>\n",
       "      <td>0.000000</td>\n",
       "      <td>1.000000</td>\n",
       "      <td>NaN</td>\n",
       "      <td>NaN</td>\n",
       "      <td>0.000000</td>\n",
       "      <td>1.000000</td>\n",
       "      <td>0.000000</td>\n",
       "      <td>-13.379464</td>\n",
       "      <td>3.300000</td>\n",
       "    </tr>\n",
       "    <tr>\n",
       "      <th>25%</th>\n",
       "      <td>1.060000</td>\n",
       "      <td>9.000000</td>\n",
       "      <td>2.000000</td>\n",
       "      <td>2.000000</td>\n",
       "      <td>NaN</td>\n",
       "      <td>NaN</td>\n",
       "      <td>0.000000</td>\n",
       "      <td>1.000000</td>\n",
       "      <td>0.000000</td>\n",
       "      <td>3.566372</td>\n",
       "      <td>8.150000</td>\n",
       "    </tr>\n",
       "    <tr>\n",
       "      <th>50%</th>\n",
       "      <td>1.900000</td>\n",
       "      <td>15.000000</td>\n",
       "      <td>3.000000</td>\n",
       "      <td>4.000000</td>\n",
       "      <td>NaN</td>\n",
       "      <td>NaN</td>\n",
       "      <td>0.000000</td>\n",
       "      <td>6.000000</td>\n",
       "      <td>3.000000</td>\n",
       "      <td>10.318229</td>\n",
       "      <td>11.300000</td>\n",
       "    </tr>\n",
       "    <tr>\n",
       "      <th>75%</th>\n",
       "      <td>3.620000</td>\n",
       "      <td>19.000000</td>\n",
       "      <td>5.000000</td>\n",
       "      <td>5.000000</td>\n",
       "      <td>NaN</td>\n",
       "      <td>NaN</td>\n",
       "      <td>0.000000</td>\n",
       "      <td>24.000000</td>\n",
       "      <td>41.000000</td>\n",
       "      <td>17.239744</td>\n",
       "      <td>17.800000</td>\n",
       "    </tr>\n",
       "    <tr>\n",
       "      <th>max</th>\n",
       "      <td>62.550000</td>\n",
       "      <td>23.000000</td>\n",
       "      <td>6.000000</td>\n",
       "      <td>6.000000</td>\n",
       "      <td>NaN</td>\n",
       "      <td>NaN</td>\n",
       "      <td>67.090909</td>\n",
       "      <td>24.000000</td>\n",
       "      <td>9999.000000</td>\n",
       "      <td>26.524107</td>\n",
       "      <td>339.380000</td>\n",
       "    </tr>\n",
       "  </tbody>\n",
       "</table>\n",
       "</div>"
      ],
      "text/plain": [
       "        tripDistance   hour_of_day   day_of_week     month_num  \\\n",
       "count   11734.000000  11734.000000  11734.000000  11734.000000   \n",
       "unique           NaN           NaN           NaN           NaN   \n",
       "top              NaN           NaN           NaN           NaN   \n",
       "freq             NaN           NaN           NaN           NaN   \n",
       "mean        2.866139     13.633884      3.223879      3.502898   \n",
       "std         2.905810      6.670530      1.961855      1.707729   \n",
       "min         0.010000      0.000000      0.000000      1.000000   \n",
       "25%         1.060000      9.000000      2.000000      2.000000   \n",
       "50%         1.900000     15.000000      3.000000      4.000000   \n",
       "75%         3.620000     19.000000      5.000000      5.000000   \n",
       "max        62.550000     23.000000      6.000000      6.000000   \n",
       "\n",
       "       normalizeHolidayName isPaidTimeOff     snowDepth    precipTime  \\\n",
       "count                 11734         11734  11734.000000  11734.000000   \n",
       "unique                    5             2           NaN           NaN   \n",
       "top                    None         False           NaN           NaN   \n",
       "freq                  11484         11484           NaN           NaN   \n",
       "mean                    NaN           NaN      1.609015     12.028379   \n",
       "std                     NaN           NaN      7.146771     10.158597   \n",
       "min                     NaN           NaN      0.000000      1.000000   \n",
       "25%                     NaN           NaN      0.000000      1.000000   \n",
       "50%                     NaN           NaN      0.000000      6.000000   \n",
       "75%                     NaN           NaN      0.000000     24.000000   \n",
       "max                     NaN           NaN     67.090909     24.000000   \n",
       "\n",
       "         precipDepth   temperature   totalAmount  \n",
       "count   11734.000000  11734.000000  11617.000000  \n",
       "unique           NaN           NaN           NaN  \n",
       "top              NaN           NaN           NaN  \n",
       "freq             NaN           NaN           NaN  \n",
       "mean      190.782342     10.314244     14.724534  \n",
       "std      1211.087724      8.500600     10.966517  \n",
       "min         0.000000    -13.379464      3.300000  \n",
       "25%         0.000000      3.566372      8.150000  \n",
       "50%         3.000000     10.318229     11.300000  \n",
       "75%        41.000000     17.239744     17.800000  \n",
       "max      9999.000000     26.524107    339.380000  "
      ]
     },
     "execution_count": 20,
     "metadata": {},
     "output_type": "execute_result"
    }
   ],
   "source": [
    "df.describe(include='all')"
   ]
  },
  {
   "cell_type": "code",
   "execution_count": 21,
   "metadata": {},
   "outputs": [
    {
     "data": {
      "text/plain": [
       "tripDistance              0\n",
       "hour_of_day               0\n",
       "day_of_week               0\n",
       "month_num                 0\n",
       "normalizeHolidayName      0\n",
       "isPaidTimeOff             0\n",
       "snowDepth                 0\n",
       "precipTime                0\n",
       "precipDepth               0\n",
       "temperature               0\n",
       "totalAmount             117\n",
       "dtype: int64"
      ]
     },
     "execution_count": 21,
     "metadata": {},
     "output_type": "execute_result"
    }
   ],
   "source": [
    "df.isnull().sum()"
   ]
  },
  {
   "cell_type": "code",
   "execution_count": 22,
   "metadata": {},
   "outputs": [],
   "source": [
    "df = df.fillna(0)"
   ]
  },
  {
   "cell_type": "code",
   "execution_count": 23,
   "metadata": {},
   "outputs": [
    {
     "data": {
      "text/plain": [
       "tripDistance       2.866139\n",
       "hour_of_day       13.633884\n",
       "day_of_week        3.223879\n",
       "month_num          3.502898\n",
       "isPaidTimeOff      0.021306\n",
       "snowDepth          1.609015\n",
       "precipTime        12.028379\n",
       "precipDepth      190.782342\n",
       "temperature       10.314244\n",
       "totalAmount       14.577715\n",
       "dtype: float64"
      ]
     },
     "execution_count": 23,
     "metadata": {},
     "output_type": "execute_result"
    }
   ],
   "source": [
    "df.mean(numeric_only=True)"
   ]
  },
  {
   "cell_type": "code",
   "execution_count": 24,
   "metadata": {},
   "outputs": [
    {
     "data": {
      "text/plain": [
       "tripDistance      1.900000\n",
       "hour_of_day      15.000000\n",
       "day_of_week       3.000000\n",
       "month_num         4.000000\n",
       "isPaidTimeOff     0.000000\n",
       "snowDepth         0.000000\n",
       "precipTime        6.000000\n",
       "precipDepth       3.000000\n",
       "temperature      10.318229\n",
       "totalAmount      11.300000\n",
       "dtype: float64"
      ]
     },
     "execution_count": 24,
     "metadata": {},
     "output_type": "execute_result"
    }
   ],
   "source": [
    "df.median(numeric_only=True)"
   ]
  },
  {
   "cell_type": "code",
   "execution_count": 25,
   "metadata": {},
   "outputs": [
    {
     "data": {
      "text/html": [
       "<div>\n",
       "<style scoped>\n",
       "    .dataframe tbody tr th:only-of-type {\n",
       "        vertical-align: middle;\n",
       "    }\n",
       "\n",
       "    .dataframe tbody tr th {\n",
       "        vertical-align: top;\n",
       "    }\n",
       "\n",
       "    .dataframe thead th {\n",
       "        text-align: right;\n",
       "    }\n",
       "</style>\n",
       "<table border=\"1\" class=\"dataframe\">\n",
       "  <thead>\n",
       "    <tr style=\"text-align: right;\">\n",
       "      <th></th>\n",
       "      <th>tripDistance</th>\n",
       "      <th>hour_of_day</th>\n",
       "      <th>day_of_week</th>\n",
       "      <th>month_num</th>\n",
       "      <th>normalizeHolidayName</th>\n",
       "      <th>isPaidTimeOff</th>\n",
       "      <th>snowDepth</th>\n",
       "      <th>precipTime</th>\n",
       "      <th>precipDepth</th>\n",
       "      <th>temperature</th>\n",
       "      <th>totalAmount</th>\n",
       "    </tr>\n",
       "  </thead>\n",
       "  <tbody>\n",
       "    <tr>\n",
       "      <th>0</th>\n",
       "      <td>0.8</td>\n",
       "      <td>18</td>\n",
       "      <td>4</td>\n",
       "      <td>5</td>\n",
       "      <td>None</td>\n",
       "      <td>False</td>\n",
       "      <td>0.0</td>\n",
       "      <td>24.0</td>\n",
       "      <td>0.0</td>\n",
       "      <td>18.807432</td>\n",
       "      <td>6.8</td>\n",
       "    </tr>\n",
       "  </tbody>\n",
       "</table>\n",
       "</div>"
      ],
      "text/plain": [
       "   tripDistance  hour_of_day  day_of_week  month_num normalizeHolidayName  \\\n",
       "0           0.8           18            4          5                 None   \n",
       "\n",
       "   isPaidTimeOff  snowDepth  precipTime  precipDepth  temperature  totalAmount  \n",
       "0          False        0.0        24.0          0.0    18.807432          6.8  "
      ]
     },
     "execution_count": 25,
     "metadata": {},
     "output_type": "execute_result"
    }
   ],
   "source": [
    "df.mode()"
   ]
  },
  {
   "cell_type": "code",
   "execution_count": 26,
   "metadata": {},
   "outputs": [
    {
     "data": {
      "text/html": [
       "<div>\n",
       "<style scoped>\n",
       "    .dataframe tbody tr th:only-of-type {\n",
       "        vertical-align: middle;\n",
       "    }\n",
       "\n",
       "    .dataframe tbody tr th {\n",
       "        vertical-align: top;\n",
       "    }\n",
       "\n",
       "    .dataframe thead th {\n",
       "        text-align: right;\n",
       "    }\n",
       "</style>\n",
       "<table border=\"1\" class=\"dataframe\">\n",
       "  <thead>\n",
       "    <tr style=\"text-align: right;\">\n",
       "      <th></th>\n",
       "      <th>tripDistance</th>\n",
       "      <th>hour_of_day</th>\n",
       "      <th>day_of_week</th>\n",
       "      <th>month_num</th>\n",
       "      <th>isPaidTimeOff</th>\n",
       "      <th>snowDepth</th>\n",
       "      <th>precipTime</th>\n",
       "      <th>precipDepth</th>\n",
       "      <th>temperature</th>\n",
       "      <th>totalAmount</th>\n",
       "    </tr>\n",
       "  </thead>\n",
       "  <tbody>\n",
       "    <tr>\n",
       "      <th>tripDistance</th>\n",
       "      <td>1.000000</td>\n",
       "      <td>-0.054169</td>\n",
       "      <td>0.024936</td>\n",
       "      <td>0.008597</td>\n",
       "      <td>0.013130</td>\n",
       "      <td>0.009923</td>\n",
       "      <td>-0.001689</td>\n",
       "      <td>-0.004524</td>\n",
       "      <td>0.020503</td>\n",
       "      <td>0.896552</td>\n",
       "    </tr>\n",
       "    <tr>\n",
       "      <th>hour_of_day</th>\n",
       "      <td>-0.054169</td>\n",
       "      <td>1.000000</td>\n",
       "      <td>-0.086562</td>\n",
       "      <td>-0.002458</td>\n",
       "      <td>-0.041185</td>\n",
       "      <td>0.016471</td>\n",
       "      <td>0.007831</td>\n",
       "      <td>0.010947</td>\n",
       "      <td>-0.015054</td>\n",
       "      <td>-0.026086</td>\n",
       "    </tr>\n",
       "    <tr>\n",
       "      <th>day_of_week</th>\n",
       "      <td>0.024936</td>\n",
       "      <td>-0.086562</td>\n",
       "      <td>1.000000</td>\n",
       "      <td>0.019255</td>\n",
       "      <td>-0.147402</td>\n",
       "      <td>-0.066260</td>\n",
       "      <td>-0.071852</td>\n",
       "      <td>-0.085533</td>\n",
       "      <td>0.016873</td>\n",
       "      <td>0.006233</td>\n",
       "    </tr>\n",
       "    <tr>\n",
       "      <th>month_num</th>\n",
       "      <td>0.008597</td>\n",
       "      <td>-0.002458</td>\n",
       "      <td>0.019255</td>\n",
       "      <td>1.000000</td>\n",
       "      <td>-0.115338</td>\n",
       "      <td>-0.301538</td>\n",
       "      <td>0.102491</td>\n",
       "      <td>-0.111110</td>\n",
       "      <td>0.832519</td>\n",
       "      <td>0.011123</td>\n",
       "    </tr>\n",
       "    <tr>\n",
       "      <th>isPaidTimeOff</th>\n",
       "      <td>0.013130</td>\n",
       "      <td>-0.041185</td>\n",
       "      <td>-0.147402</td>\n",
       "      <td>-0.115338</td>\n",
       "      <td>1.000000</td>\n",
       "      <td>-0.001425</td>\n",
       "      <td>0.068319</td>\n",
       "      <td>0.242770</td>\n",
       "      <td>-0.090847</td>\n",
       "      <td>-0.003575</td>\n",
       "    </tr>\n",
       "    <tr>\n",
       "      <th>snowDepth</th>\n",
       "      <td>0.009923</td>\n",
       "      <td>0.016471</td>\n",
       "      <td>-0.066260</td>\n",
       "      <td>-0.301538</td>\n",
       "      <td>-0.001425</td>\n",
       "      <td>1.000000</td>\n",
       "      <td>0.023557</td>\n",
       "      <td>0.057489</td>\n",
       "      <td>-0.233195</td>\n",
       "      <td>0.008870</td>\n",
       "    </tr>\n",
       "    <tr>\n",
       "      <th>precipTime</th>\n",
       "      <td>-0.001689</td>\n",
       "      <td>0.007831</td>\n",
       "      <td>-0.071852</td>\n",
       "      <td>0.102491</td>\n",
       "      <td>0.068319</td>\n",
       "      <td>0.023557</td>\n",
       "      <td>1.000000</td>\n",
       "      <td>0.172928</td>\n",
       "      <td>0.034417</td>\n",
       "      <td>0.002872</td>\n",
       "    </tr>\n",
       "    <tr>\n",
       "      <th>precipDepth</th>\n",
       "      <td>-0.004524</td>\n",
       "      <td>0.010947</td>\n",
       "      <td>-0.085533</td>\n",
       "      <td>-0.111110</td>\n",
       "      <td>0.242770</td>\n",
       "      <td>0.057489</td>\n",
       "      <td>0.172928</td>\n",
       "      <td>1.000000</td>\n",
       "      <td>-0.135116</td>\n",
       "      <td>-0.008211</td>\n",
       "    </tr>\n",
       "    <tr>\n",
       "      <th>temperature</th>\n",
       "      <td>0.020503</td>\n",
       "      <td>-0.015054</td>\n",
       "      <td>0.016873</td>\n",
       "      <td>0.832519</td>\n",
       "      <td>-0.090847</td>\n",
       "      <td>-0.233195</td>\n",
       "      <td>0.034417</td>\n",
       "      <td>-0.135116</td>\n",
       "      <td>1.000000</td>\n",
       "      <td>0.023233</td>\n",
       "    </tr>\n",
       "    <tr>\n",
       "      <th>totalAmount</th>\n",
       "      <td>0.896552</td>\n",
       "      <td>-0.026086</td>\n",
       "      <td>0.006233</td>\n",
       "      <td>0.011123</td>\n",
       "      <td>-0.003575</td>\n",
       "      <td>0.008870</td>\n",
       "      <td>0.002872</td>\n",
       "      <td>-0.008211</td>\n",
       "      <td>0.023233</td>\n",
       "      <td>1.000000</td>\n",
       "    </tr>\n",
       "  </tbody>\n",
       "</table>\n",
       "</div>"
      ],
      "text/plain": [
       "               tripDistance  hour_of_day  day_of_week  month_num  \\\n",
       "tripDistance       1.000000    -0.054169     0.024936   0.008597   \n",
       "hour_of_day       -0.054169     1.000000    -0.086562  -0.002458   \n",
       "day_of_week        0.024936    -0.086562     1.000000   0.019255   \n",
       "month_num          0.008597    -0.002458     0.019255   1.000000   \n",
       "isPaidTimeOff      0.013130    -0.041185    -0.147402  -0.115338   \n",
       "snowDepth          0.009923     0.016471    -0.066260  -0.301538   \n",
       "precipTime        -0.001689     0.007831    -0.071852   0.102491   \n",
       "precipDepth       -0.004524     0.010947    -0.085533  -0.111110   \n",
       "temperature        0.020503    -0.015054     0.016873   0.832519   \n",
       "totalAmount        0.896552    -0.026086     0.006233   0.011123   \n",
       "\n",
       "               isPaidTimeOff  snowDepth  precipTime  precipDepth  temperature  \\\n",
       "tripDistance        0.013130   0.009923   -0.001689    -0.004524     0.020503   \n",
       "hour_of_day        -0.041185   0.016471    0.007831     0.010947    -0.015054   \n",
       "day_of_week        -0.147402  -0.066260   -0.071852    -0.085533     0.016873   \n",
       "month_num          -0.115338  -0.301538    0.102491    -0.111110     0.832519   \n",
       "isPaidTimeOff       1.000000  -0.001425    0.068319     0.242770    -0.090847   \n",
       "snowDepth          -0.001425   1.000000    0.023557     0.057489    -0.233195   \n",
       "precipTime          0.068319   0.023557    1.000000     0.172928     0.034417   \n",
       "precipDepth         0.242770   0.057489    0.172928     1.000000    -0.135116   \n",
       "temperature        -0.090847  -0.233195    0.034417    -0.135116     1.000000   \n",
       "totalAmount        -0.003575   0.008870    0.002872    -0.008211     0.023233   \n",
       "\n",
       "               totalAmount  \n",
       "tripDistance      0.896552  \n",
       "hour_of_day      -0.026086  \n",
       "day_of_week       0.006233  \n",
       "month_num         0.011123  \n",
       "isPaidTimeOff    -0.003575  \n",
       "snowDepth         0.008870  \n",
       "precipTime        0.002872  \n",
       "precipDepth      -0.008211  \n",
       "temperature       0.023233  \n",
       "totalAmount       1.000000  "
      ]
     },
     "execution_count": 26,
     "metadata": {},
     "output_type": "execute_result"
    }
   ],
   "source": [
    "df.corr()"
   ]
  },
  {
   "cell_type": "markdown",
   "metadata": {},
   "source": [
    "                                                            Pearson Values (P.Value)\n",
    "\n",
    " **P-value**: \n",
    "What is this P-value? The P-value is the probability value that the correlation between these two variables is statistically significant. Normally, we choose a significance level of 0.05, which means that we are 95% confident that the correlation between the variables is significant. \n",
    "\n",
    "By convention, when the \n",
    "- p-value is < 0.001 we say there is strong evidence that the correlation is significant,\n",
    "- the p-value is < 0.05; there is moderate evidence that the correlation is significant,\n",
    "- the p-value is < 0.1; there is weak evidence that the correlation is significant, and\n",
    "- the p-value is > 0.1; there is no evidence that the correlation is significant.                                                           "
   ]
  },
  {
   "cell_type": "code",
   "execution_count": 27,
   "metadata": {},
   "outputs": [
    {
     "name": "stdout",
     "output_type": "stream",
     "text": [
      "The Pearson Correlation Coefficient is 0.8965522126174372  with a P-value of P = 0.0\n"
     ]
    }
   ],
   "source": [
    "p_value1 = 'totalAmount'\n",
    "p_value1 = 'tripDistance'\n",
    "\n",
    "pearson_coef, p_value = stats.pearsonr(df['totalAmount'], df['tripDistance'])\n",
    "print(\"The Pearson Correlation Coefficient is\", pearson_coef, \" with a P-value of P =\", p_value)  "
   ]
  },
  {
   "cell_type": "code",
   "execution_count": 28,
   "metadata": {},
   "outputs": [
    {
     "name": "stdout",
     "output_type": "stream",
     "text": [
      "The Pearson Correlation Coefficient is -0.026086189555348926  with a P-value of P = 0.004714363870074573\n"
     ]
    }
   ],
   "source": [
    "p_value1 = 'totalAmount'\n",
    "p_value2 = 'hour_of_day'\n",
    "\n",
    "pearson_coef, p_value = stats.pearsonr(df['totalAmount'], df['hour_of_day'])\n",
    "print(\"The Pearson Correlation Coefficient is\", pearson_coef, \" with a P-value of P =\", p_value)"
   ]
  },
  {
   "cell_type": "code",
   "execution_count": 29,
   "metadata": {},
   "outputs": [
    {
     "name": "stdout",
     "output_type": "stream",
     "text": [
      "The Pearson Correlation Coefficient is 0.00623287135233512  with a P-value of P = 0.49961120087840816\n"
     ]
    }
   ],
   "source": [
    "p_value1 = 'totalAmount'\n",
    "p_value2 = 'day_of_week'\n",
    "\n",
    "pearson_coef, p_value = stats.pearsonr(df['totalAmount'], df['day_of_week'])\n",
    "print(\"The Pearson Correlation Coefficient is\", pearson_coef, \" with a P-value of P =\", p_value)"
   ]
  },
  {
   "cell_type": "code",
   "execution_count": 30,
   "metadata": {},
   "outputs": [
    {
     "name": "stdout",
     "output_type": "stream",
     "text": [
      "The Pearson Correlation Coefficient is 0.023232520275769088  with a P-value of P = 0.011845913089889583\n"
     ]
    }
   ],
   "source": [
    "p_value1 = 'totalAmount'\n",
    "p_value2 = 'temperature\t'\n",
    "\n",
    "pearson_coef, p_value = stats.pearsonr(df['totalAmount'], df['temperature'])\n",
    "print(\"The Pearson Correlation Coefficient is\", pearson_coef, \" with a P-value of P =\", p_value)"
   ]
  },
  {
   "cell_type": "code",
   "execution_count": 31,
   "metadata": {},
   "outputs": [
    {
     "name": "stdout",
     "output_type": "stream",
     "text": [
      "The Pearson Correlation Coefficient is 0.008870061736488712  with a P-value of P = 0.33667614333936596\n"
     ]
    }
   ],
   "source": [
    "p_value1 = 'totalAmount'\n",
    "p_value2 = 'snowDepth'\n",
    "\n",
    "pearson_coef, p_value = stats.pearsonr(df['totalAmount'], df['snowDepth'])\n",
    "print(\"The Pearson Correlation Coefficient is\", pearson_coef, \" with a P-value of P =\", p_value)"
   ]
  },
  {
   "cell_type": "markdown",
   "metadata": {},
   "source": [
    "                                                    Exploration of Data using Charts\n",
    "                                                    \n",
    "Continuous numerical variables: \n",
    "\n",
    "Continuous numerical variables are variables that may contain any value within some range. Continuous numerical variables can have the type \"int64\" or \"float64\". A great way to visualize these variables is by using scatterplots with fitted lines. \n",
    "\n",
    "In order to start understanding the (linear) relationship between an individual variable and the price. We can do this by using \"regplot\", which plots the scatterplot plus the fitted regression line for the data.\n",
    "\n",
    "Categorical variables:\n",
    "\n",
    "These are variables that describe a 'characteristic' of a data unit, and are selected from a small group of categories. The categorical variables can have the type \"object\" or \"int64\". A good way to visualize categorical variables is by using boxplots."
   ]
  },
  {
   "cell_type": "code",
   "execution_count": 32,
   "metadata": {},
   "outputs": [
    {
     "data": {
      "text/plain": [
       "(11734, 11)"
      ]
     },
     "execution_count": 32,
     "metadata": {},
     "output_type": "execute_result"
    }
   ],
   "source": [
    "# check the shape of the DataFrame (rows, columns)\n",
    "df.shape"
   ]
  },
  {
   "cell_type": "code",
   "execution_count": 33,
   "metadata": {},
   "outputs": [
    {
     "data": {
      "text/plain": [
       "tripDistance            float64\n",
       "hour_of_day               int64\n",
       "day_of_week               int64\n",
       "month_num                 int64\n",
       "normalizeHolidayName     object\n",
       "isPaidTimeOff              bool\n",
       "snowDepth               float64\n",
       "precipTime              float64\n",
       "precipDepth             float64\n",
       "temperature             float64\n",
       "totalAmount             float64\n",
       "dtype: object"
      ]
     },
     "execution_count": 33,
     "metadata": {},
     "output_type": "execute_result"
    }
   ],
   "source": [
    "df.dtypes"
   ]
  },
  {
   "cell_type": "code",
   "execution_count": 34,
   "metadata": {},
   "outputs": [
    {
     "data": {
      "text/plain": [
       "(0.0, 356.349)"
      ]
     },
     "execution_count": 34,
     "metadata": {},
     "output_type": "execute_result"
    },
    {
     "data": {
      "image/png": "[encoded data removed]",
      "text/plain": [
       "<Figure size 1058.4x504 with 3 Axes>"
      ]
     },
     "metadata": {
      "needs_background": "light"
     },
     "output_type": "display_data"
    }
   ],
   "source": [
    "# visualising the relationship between the features and the response using SEABORN scatterplots\n",
    "\n",
    "sns.pairplot(df, x_vars=['tripDistance','hour_of_day','temperature'], y_vars='totalAmount', height=7, aspect=0.7, kind='reg')\n",
    "plt.ylim(0,)"
   ]
  },
  {
   "cell_type": "code",
   "execution_count": 35,
   "metadata": {},
   "outputs": [
    {
     "data": {
      "text/plain": [
       "<AxesSubplot:xlabel='month_num', ylabel='totalAmount'>"
      ]
     },
     "execution_count": 35,
     "metadata": {},
     "output_type": "execute_result"
    },
    {
     "data": {
      "image/png": "[encoded data removed]",
      "text/plain": [
       "<Figure size 432x288 with 1 Axes>"
      ]
     },
     "metadata": {
      "needs_background": "light"
     },
     "output_type": "display_data"
    }
   ],
   "source": [
    "sns.boxplot(x='month_num', y='totalAmount', data=df)"
   ]
  },
  {
   "cell_type": "code",
   "execution_count": 36,
   "metadata": {},
   "outputs": [
    {
     "data": {
      "text/plain": [
       "<AxesSubplot:xlabel='day_of_week', ylabel='totalAmount'>"
      ]
     },
     "execution_count": 36,
     "metadata": {},
     "output_type": "execute_result"
    },
    {
     "data": {
      "image/png": "[encoded data removed]",
      "text/plain": [
       "<Figure size 432x288 with 1 Axes>"
      ]
     },
     "metadata": {
      "needs_background": "light"
     },
     "output_type": "display_data"
    }
   ],
   "source": [
    "sns.boxplot(x='day_of_week', y='totalAmount', data=df)"
   ]
  },
  {
   "cell_type": "markdown",
   "metadata": {},
   "source": [
    "                                                        CLEANING THE DATA                                                                 "
   ]
  },
  {
   "cell_type": "code",
   "execution_count": 37,
   "metadata": {},
   "outputs": [
    {
     "data": {
      "text/plain": [
       "(11734, 11)"
      ]
     },
     "execution_count": 37,
     "metadata": {},
     "output_type": "execute_result"
    }
   ],
   "source": [
    "# Replacing NaN with 0\n",
    "\n",
    "df = df.fillna(0)\n",
    "df.shape"
   ]
  },
  {
   "cell_type": "code",
   "execution_count": 38,
   "metadata": {},
   "outputs": [
    {
     "data": {
      "text/plain": [
       "tripDistance            0\n",
       "hour_of_day             0\n",
       "day_of_week             0\n",
       "month_num               0\n",
       "normalizeHolidayName    0\n",
       "isPaidTimeOff           0\n",
       "snowDepth               0\n",
       "precipTime              0\n",
       "precipDepth             0\n",
       "temperature             0\n",
       "totalAmount             0\n",
       "dtype: int64"
      ]
     },
     "execution_count": 38,
     "metadata": {},
     "output_type": "execute_result"
    }
   ],
   "source": [
    "df.isna().sum()"
   ]
  },
  {
   "cell_type": "markdown",
   "metadata": {},
   "source": [
    "#### Feature Selection and One-Hot Encoding with Bucket: Day of Week and Hour of /day"
   ]
  },
  {
   "cell_type": "code",
   "execution_count": 40,
   "metadata": {},
   "outputs": [
    {
     "data": {
      "text/plain": [
       "array([15, 13, 23, 18, 17,  9, 12,  0,  2, 14, 19, 11, 10, 20,  1,  8, 22,\n",
       "        4,  3,  5, 21,  7, 16,  6], dtype=int64)"
      ]
     },
     "execution_count": 40,
     "metadata": {},
     "output_type": "execute_result"
    }
   ],
   "source": [
    "# finding the values of the column\n",
    "\n",
    "df['hour_of_day'].unique()"
   ]
  },
  {
   "cell_type": "code",
   "execution_count": 41,
   "metadata": {},
   "outputs": [],
   "source": [
    "bin = [-1, 6, 12, 18, 24]       # -1 is used so include the 0hour"
   ]
  },
  {
   "cell_type": "code",
   "execution_count": 42,
   "metadata": {},
   "outputs": [
    {
     "data": {
      "text/plain": [
       "array([2, 4, 6, 1, 3, 0, 5], dtype=int64)"
      ]
     },
     "execution_count": 42,
     "metadata": {},
     "output_type": "execute_result"
    }
   ],
   "source": [
    "df['day_of_week'].unique()"
   ]
  }
 ],
 "metadata": {
  "interpreter": {
   "hash": "36e904ccdb4f09838a01b7a3990727405d3bb0473e52c329a671002203446b10"
  },
  "kernelspec": {
   "display_name": "Python 3.10.0 64-bit",
   "language": "python",
   "name": "python3"
  },
  "language_info": {
   "codemirror_mode": {
    "name": "ipython",
    "version": 3
   },
   "file_extension": ".py",
   "mimetype": "text/x-python",
   "name": "python",
   "nbconvert_exporter": "python",
   "pygments_lexer": "ipython3",
   "version": "3.10.4"
  },
  "orig_nbformat": 4
 },
 "nbformat": 4,
 "nbformat_minor": 2
}
